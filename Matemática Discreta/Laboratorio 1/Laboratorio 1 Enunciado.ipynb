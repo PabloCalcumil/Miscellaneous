{
 "cells": [
  {
   "cell_type": "markdown",
   "metadata": {},
   "source": [
    "<img src=\"images/usm.png\" width=\"480\" height=\"240\" align=\"center\"/>"
   ]
  },
  {
   "cell_type": "markdown",
   "metadata": {},
   "source": [
    "\n",
    "<center>\n",
    "    <strong> <font size=\"5\"> MAT215 - 1° Semestre 2020 <br> Matemática Discreta</font> </strong>\n",
    "    \n",
    "</center>\n"
   ]
  },
  {
   "cell_type": "markdown",
   "metadata": {},
   "source": [
    "## Índice\n",
    "* [Instrucciones](#in)\n",
    "* [Criptoanálisis:Análisis de Frecuencia](#p1)\n",
    "* [Ápendice](#ap)"
   ]
  },
  {
   "cell_type": "markdown",
   "metadata": {},
   "source": [
    "<a id='in'></a>\n",
    "## 1.- Instrucciones.\n",
    "\n",
    "* Este laboratorio es de carácter individual, aunque se permite el intercambio de ideas con demás estudiantes, la redacción de éste debe ser personal.\n",
    "* La fecha de entrega es el 19/05/20 con hora límite 23:59 al correo nicolas.alfaro@sansano.usm.cl Por día habrá un descuento de 10 ptos, al segundo día 20 ptos hasta el 5to día de atraso fecha a la cuál ya no se recibirán mas laboratorios.\n",
    "* El lenguaje de programación utilizado para resolver el laboratorio es de libre elección, Siéntase libre de utilizar cualquier librería que lo ayude en su programación (Guardando parámetros, evitar utilizar artillería pesada). Eso sí considere que la resolución del laboratorio se hizo pensando en el lenguaje Python, usar otro lenguaje podría incurrir en variaciones en la dificultad de cada pregunta."
   ]
  },
  {
   "cell_type": "markdown",
   "metadata": {},
   "source": [
    "<a id='p1'></a>\n",
    "\n",
    "## 2.- Criptoanálisis: Análisis de frecuencia (100p)\n",
    "\n",
    "Como se mencionó en clases, textos encriptados bajo las técnicas de cifrado basadas en la sustitución, sucumben ante el <b>Análisis de frecuencia</b>, técnica que consiste en estudiar la frecuencia de letras ( o conjuntos de éstas) argumentando que cada lenguaje tiene una distribución de frecuencias que lo caracteriza, esto es, que ciertas letras (o conjuntos de éstas) tienden a ocurrir con más frecuencias que otras <b>independiente del texto a analizar*</b>.\n",
    "\n",
    "(*) _Esto no es 100% preciso ya que existen ciertos textos tales como la novela_ \n",
    "<a href=\"https://en.wikipedia.org/wiki/Gadsby_(novel)\">Gadsby</a>  _que omite la letra \"e\", cuya frecuencia relativa es del 12% en el idioma inglés ( la más alta) ._\n",
    "\n",
    "Uno de las técnicas de cifrado más común basada en la sustitución corresponde a una [función hash](#fh) con los pares (llave, valor) donde la letra que corresponde a la llave se reemplaza por la letra que corresponda a valor. \n",
    "\n",
    "Por ejemplo:\n",
    "\n",
    "```Python\n",
    "\n",
    "Llave    = \"SHAVMJNETXPFDBQIUCKGORYLWZ\"\n",
    "Alfabeto = \"ABCDEFGHIJKLMNOPQRSTUVWXYZ\"\n",
    "\n",
    "\n",
    "Mensaje_Original = \"Once bebés han nacido en la Antártica\"\n",
    "\n",
    "Mensaje_Encriptado = \"QBAM HMHMK ESB BSATVQ MB FS SBGSCGTAS\"  #(notar que se ha ignorado la puntuación)\n",
    "\n",
    "Llave_Desencriptacion = \"CNRMHLTBPFSXEGUKOVAIQDYJWZ\"\n",
    "\n",
    "```\n",
    "\n",
    "### ¿Cómo aplica la llave?\n",
    "\n",
    "Sea una llave como: $\\alpha_{1}\\alpha_{2}\\alpha_{3} \\dots \\alpha_{n}$ con $n$ el largo del alfabeto utilizado, entonces cada carácter del alfabeto original es reemplazado en el orden de la llave, es decir $a$ se reemplaza con $\\alpha_{1}$, $b$ con $\\alpha_{2}$, $c$ con $\\alpha_{3}$, etc...\n",
    "\n",
    "#### Pequeño ejemplo:\n",
    "\n",
    "Se usará el alfabeto: \"ABCDE\" de 5 carácteres, para encriptar el texto \"EDBBCA\" basado en este alfabeto, con la siguiente llave : \"BDAEC\" .\n",
    "\n",
    "1. \"E\" se reemplaza por \"C\", \"D\" se reemplaza por \"E\",\"B\" se reemplaza por \"D, \"C\" se reemplaza por A \n",
    "    y \"A\" se reemplaza por \"B\"\n",
    "2. Resultando en el texto encriptado: \"CEDDAB\"\n",
    "3. Se desencripta con la <b>llave inversa</b>: \"CAEBD\" ,es decir la \"A\" se reemplaza por \"C\", \"B\" se remplaza por \"A\", etc...\n",
    "4. Resulta en el mensaje: \"EDBBCA\"\n",
    "\n",
    "### ¿Como sé que una llave es la correcta para desencriptar algún texto?\n",
    "\n",
    "Como se definió inicialmente se utilizará el análisis de frecuencia para este problema, es decir que para medir que tan buena es una llave, se basará en que la frecuencia de agrupaciones de carácteres en el texto desencriptado con la llave debe ser similar a la frecuencia de agrupaciones en el lenguaje original, es decir, que si por ejemplo el par \"th\" tiene una frecuencia relativa de 5% entre todos los pares de carácteres en el inglés, el texto desencriptado también debe tener al par \"th\" con una frecuencia del 5%, esto se repite para cada par existente.\n",
    "\n",
    "Para poder medir que tan similares son las frecuencias se propone un sistema de puntuación basado en la siguiente métrica: \n",
    "\n",
    "$$\n",
    "    \\sum_{par \\in \\mathcal{A}} \\mathcal{O}(par) \\cdot Log(\\mathcal{F}(par))\n",
    "$$\n",
    "\n",
    "Donde $\\mathcal{A}$: Conjunto de todos los pares de carácteres en el inglés. <br>\n",
    "$\\mathcal{O}$: Ocurrencia del par en el texto desencriptado <br>\n",
    "$\\mathcal{F}$: Frecuencia del par en el lenguaje natural del inglés\n",
    "\n",
    "<b>Las Frecuencias de cada par en el inglés provienen del archivo csv \"frecuencias\" adjuntado en el Laboratorio, si el par en cuestión no se encuentra entonces asuma que su frecuencia es 0 </b>\n",
    "### La iteración:\n",
    "\n",
    "Una vez ya se ha definido el sistema de desempeño de cada llave, se propone además el siguiente método para converger:\n",
    "\n",
    "1. Consideré una llave inicial $k_{0}=\\alpha_{1}\\alpha_{2}\\alpha_{3}\\dots\\alpha_{n}$ como la llave propuesta $k$.\n",
    "2. Calcule el puntaje de la llave propuesta bajo la métrica propuesta.\n",
    "3. Permute 2 carácteres aleatorios de la llave propuesta. Esta llave permutada será $k_{1}$ la llave candidata.\n",
    "4. Calcule el puntaje de esta nueva llave, si es superior o igual a la anterior reemplaze la llave $k$ por $k_{1}$ como la nueva llave propuesta, sino mantenga la llave propuesta.\n",
    "5. Repita el paso 3 y 4 varias veces. Recomendación mínima:10000 iteraciones.\n",
    "\n",
    "<br>\n",
    "\n",
    "__IMPORTANTE 1:Es posible aunque tenga todo muy bien programada que la iteración no converga a la llave que desencripta el texto, esto es debido a la aleatoriedad inducida por el proceso de permutar 2 carácteres de la llave inicial,__. <br>\n",
    "<br>\n",
    "__IMPORTANTE 2: Recuerde que \"a\" y \"A\" son lo mismo para efectos del desencriptado, pero no para el lenguaje computacional, se recomienda trabajar con el método <a href=\"https://www.tutorialspoint.com/python/string_lower.htm\">.lower()</a> o <a href=\"https://www.tutorialspoint.com/python/string_upper.htm\">.upper()</a>__\n",
    "\n",
    "__IMPORTANTE 3: En el caso de que le quede un mensaje legible con leves errores, Ej: \"Hellu huw are yuo  \"puede corregir la llave manualmente.__"
   ]
  },
  {
   "cell_type": "markdown",
   "metadata": {},
   "source": [
    "# PREGUNTAS"
   ]
  },
  {
   "cell_type": "markdown",
   "metadata": {},
   "source": [
    "a) Explique la relación entre una llave y su llave inversa. Construya una función que le permita encontrar la llave inversa de una llave utilizada "
   ]
  },
  {
   "cell_type": "markdown",
   "metadata": {},
   "source": [
    "b) ¿Por qué se ha utilizado esa métrica para puntuar la calidad de la llave? ¿Qué es lo que \"premia\"?. Construya además una función que permita evaluar una llave y entregue su puntuación bajo esta métrica"
   ]
  },
  {
   "cell_type": "markdown",
   "metadata": {},
   "source": [
    "c) Construya 2 funciones que realizen lo siguiente:\n",
    " * Permute 2 carácteres de forma aleatoria en una llave \n",
    " * Encripte un texto mediante una llave cualquiera"
   ]
  },
  {
   "cell_type": "markdown",
   "metadata": {},
   "source": [
    "## Problema\n",
    "\n",
    "Usted es un comandante de una fuerza guerrillera que se opone al gobierno, Últimamente la situación va de mal en peor, para su suerte, su comando ha interceptado un mensaje que parece ser de vital importancia, sin embargo, cuando se dispone a leerlo se percata de que es un mensaje encriptado!. Como si se tratara de un milagro divino, Usted recuerda que cuando era un joven estudiante, rindió MAT-215 y sabe algo de criptoanálisis."
   ]
  },
  {
   "cell_type": "markdown",
   "metadata": {},
   "source": [
    "d) Desencripte el primer mensaje, sabiendo que el idioma en el cuál fue escrito es el inglés y además enseñe cual fue la llave de encriptación utilizada originalmente.\n"
   ]
  },
  {
   "cell_type": "markdown",
   "metadata": {},
   "source": [
    "e) Supongamos que en vez de que el idioma en el cuál fue escrito el mensaje anterior, en vez del inglés haya sido el español, ¿Cómo hubiera procedido para desencriptar el mensaje?\n",
    "\n",
    "_Hint: Piense en el dataframe entregado para resolver el mensaje anterior_ \n",
    "\n",
    "En adición piense en otro método de como se pudo haber encontrado la llave buscada.\n"
   ]
  },
  {
   "cell_type": "markdown",
   "metadata": {},
   "source": [
    "<a id='ap'></a>\n",
    "# 3.- Apéndice \n",
    "\n",
    "<a id='fh'>Funcion hash: Una función criptográfica hash- usualmente conocida como “hash”- es un algoritmo matemático que transforma cualquier bloque arbitrario de datos en una nueva serie de caracteres con una longitud fija. Independientemente de la longitud de los datos de entrada, el valor hash de salida tendrá siempre la misma longitud.</a>"
   ]
  }
 ],
 "metadata": {
  "kernelspec": {
   "display_name": "Python 3",
   "language": "python",
   "name": "python3"
  },
  "language_info": {
   "codemirror_mode": {
    "name": "ipython",
    "version": 3
   },
   "file_extension": ".py",
   "mimetype": "text/x-python",
   "name": "python",
   "nbconvert_exporter": "python",
   "pygments_lexer": "ipython3",
   "version": "3.7.3"
  }
 },
 "nbformat": 4,
 "nbformat_minor": 2
}

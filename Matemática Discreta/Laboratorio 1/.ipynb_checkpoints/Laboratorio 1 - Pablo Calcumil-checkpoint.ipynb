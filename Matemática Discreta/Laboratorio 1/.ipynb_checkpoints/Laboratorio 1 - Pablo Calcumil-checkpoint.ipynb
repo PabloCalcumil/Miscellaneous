{
 "cells": [
  {
   "cell_type": "markdown",
   "metadata": {},
   "source": [
    "<img src=\"images/usm.png\" width=\"480\" height=\"240\" align=\"center\"/>"
   ]
  },
  {
   "cell_type": "markdown",
   "metadata": {},
   "source": [
    "<center>\n",
    "    <strong> <font size=\"5\"> MAT215 - 1° Semestre 2020 <br> Matemática Discreta</font> </strong>\n",
    "    \n",
    "</center>"
   ]
  },
  {
   "cell_type": "markdown",
   "metadata": {},
   "source": [
    "**Profesor**: *Patricio Quiróz*\n",
    "\n",
    "**Ayudante**: *Nicolás Alfaro*"
   ]
  },
  {
   "cell_type": "markdown",
   "metadata": {},
   "source": [
    "# Laboratorio 1\n",
    "\n",
    "## Desarrollo"
   ]
  },
  {
   "cell_type": "markdown",
   "metadata": {},
   "source": [
    "***a)*** Podemos notar que la relación entre la llave y la llave inversa, es de la posición del caracter en el string. Esto es que por el alfabeto tenemos un \"orden\" designado de cada string, entonces cada caracter en la llave está en una posición i, luego el caracter en la posición i del alfabeto estará (en la llave inversa) en la posición que el caracter de la posición i de la llave **debería** estar en el alfabeto. Esto mismo ocurre analogamente con los caracteres de la llave inversa a la llave."
   ]
  },
  {
   "cell_type": "code",
   "execution_count": 3,
   "metadata": {},
   "outputs": [],
   "source": [
    "def llave_inversa(alfabeto,llave):\n",
    "    alfabeto = alfabeto.lower()   #ponemos todo en minuscula\n",
    "    largo = len(llave)   #Para recorrer la llave y definir largo llave inversa\n",
    "    llave = llave.lower()\n",
    "    inversa = list(llave)  #Para jugar con las posiciones en la l\n",
    "    for i in range(0,largo):\n",
    "        for j in range(0,largo):\n",
    "            if llave[i] == alfabeto[j]:\n",
    "                inversa[j] = alfabeto[i]\n",
    "    inversa=\"\".join(inversa)\n",
    "    \n",
    "    return inversa"
   ]
  },
  {
   "cell_type": "markdown",
   "metadata": {},
   "source": [
    "***b)***\n",
    "Se utiliza para poder asimilar el mensaje encriptado al idioma que esta escrito originalmente, premiando las similitudes con esto guiandose a la frecuencia con que se ocupan las letras y/o pares de letras en este."
   ]
  },
  {
   "cell_type": "code",
   "execution_count": 9,
   "metadata": {},
   "outputs": [],
   "source": [
    "#bibliotecas necesarias\n",
    "import math\n",
    "import random"
   ]
  },
  {
   "cell_type": "code",
   "execution_count": 10,
   "metadata": {},
   "outputs": [],
   "source": [
    "def evaluar_llave(texto_desencriptado,lista_frecuencias):\n",
    "    puntaje = 0\n",
    "    texto_desencriptado= texto_desencriptado.lower()\n",
    "    numero = len(texto_desencriptado)\n",
    "    for lista in lista_frecuencias:\n",
    "        frecuencia = int(lista[1])\n",
    "        contador = 0\n",
    "        if frecuencia != 0:\n",
    "            frecuencia = math.log(frecuencia)\n",
    "        for j in range(1,numero):\n",
    "            if lista[0] == texto_desencriptado[j - 1] + texto_desencriptado[j]:\n",
    "                contador = contador + 1\n",
    "        puntaje = puntaje + contador * frecuencia\n",
    "    return puntaje"
   ]
  },
  {
   "cell_type": "markdown",
   "metadata": {},
   "source": [
    "***c)***"
   ]
  },
  {
   "cell_type": "code",
   "execution_count": 6,
   "metadata": {},
   "outputs": [],
   "source": [
    "def permuta_caracteres(llave):\n",
    "    largollave = len(llave)\n",
    "    llave = llave.lower()\n",
    "    llave = list(llave)\n",
    "    random1 = random.randrange(0,largollave)\n",
    "    random2 = random.randrange(0,largollave)\n",
    "    vacio = [0,0]\n",
    "    while random1 == random2:\n",
    "            random2 = random.randrange(0,largollave)\n",
    "    vacio[0] = llave[random1]\n",
    "    vacio[1] = llave[random2]\n",
    "    llave[random1] = vacio[1]\n",
    "    llave[random2] = vacio[0]\n",
    "    llave = \"\".join(llave)\n",
    "    \n",
    "    return llave"
   ]
  },
  {
   "cell_type": "code",
   "execution_count": 7,
   "metadata": {},
   "outputs": [],
   "source": [
    "def encriptacion(key,texto,alphabet):\n",
    "    largotexto = len(texto)\n",
    "    key = key.lower()\n",
    "    texto = texto.lower()\n",
    "    alphabet = alphabet.lower()\n",
    "    largokey = len(key)\n",
    "    text = list(texto)\n",
    "    for i in range(0,largotexto):\n",
    "        for j in range(0,largokey):\n",
    "            if texto[i] == alphabet[j]:\n",
    "                text[i] = key[j]\n",
    "    text = \"\".join(text)\n",
    "    \n",
    "    return text"
   ]
  },
  {
   "cell_type": "markdown",
   "metadata": {},
   "source": [
    "***d)***"
   ]
  },
  {
   "cell_type": "code",
   "execution_count": 22,
   "metadata": {},
   "outputs": [
    {
     "name": "stdout",
     "output_type": "stream",
     "text": [
      "as they were talking a dog that had been lying asleep raised his head and pricked up his ears this was argos whom odysseus had bred before setting out for troy but he had never had any enjoyment from him in the old days he used to be taken out by the young men when they went hunting wild goats or deer or hares but now that his master was gone he was lying neglected on the heaps of mule and cow dung that lay in front of the stable doors till the men should come and draw it away to manure the great close and he was full of fleas as soon as he saw odysseus standing there he dropped his ears and wagged his tail but he could not get close up to his master when odysseus saw the dog on the other side of the yard dashed a tear from his eyes without eumaeus seeing it and saideumaeus what a noble hound that is over yonder on the manure heap his build is splendid is he as fine a fellow as he looks or is he only one of those dogs that come begging about a table and are kept merely for showthis hound answered eumaeus belonged to him who has died in a far country if he were what he was when odysseus left for troy he would soon show you what he could do there was not a wild beast in the forest that could get away from him when he was once on its tracks but now he has fallen on evil times for his master is dead and gone and the women take no care of him servants never do their work when their masters hand is no longer over them for xeus takes half the goodness out of a man when he makes a slave of himso saying he entered the wellbuilt mansion and made straight for the riotous pretenders in the hall but argos passed into the darkness of death now that he had seen his master once more after twenty years\n",
      "itblphwzarejxnfvoudmcgysqk\n"
     ]
    }
   ],
   "source": [
    "llave = \"MNBCXZKJHGFDSOIUTRWQVALEYP\" #Primero nos damos una llave cualquiera\n",
    "alfabeto = \"ABCDEFGHIJKLMNOPQRSTUVWXYZ\"\n",
    "mensaje = open(\"mensaje.txt\")\n",
    "texto = \"\".join(mensaje)\n",
    "count = 0\n",
    "csv = open(\"frecuencias.csv\")\n",
    "listas = [line.split(\"\\n\")[0].split(\",\") for line in csv.readlines()]\n",
    "listas.pop(0)\n",
    "inversa = llave_inversa(alfabeto,llave)\n",
    "desencriptado = encriptacion(inversa,texto,alfabeto)\n",
    "puntaje = evaluar_llave(desencriptado,listas)\n",
    "while count <=10000:\n",
    "    llavereci = permuta_caracteres(llave)\n",
    "    llaveinversa = llave_inversa(alfabeto,llavereci)\n",
    "    text = encriptacion(llaveinversa,texto,alfabeto)\n",
    "    puntajereci = evaluar_llave(text,listas)\n",
    "    if puntajereci > puntaje:\n",
    "        llave = llavereci\n",
    "        puntaje = puntajereci\n",
    "    count = count + 1\n",
    "llaveinversa = llave_inversa(alfabeto,llave)\n",
    "text = encriptacion(llaveinversa,texto,alfabeto)\n",
    "csv.close()\n",
    "mensaje.close()\n",
    "print(text)\n",
    "print(llave)"
   ]
  },
  {
   "cell_type": "markdown",
   "metadata": {},
   "source": [
    "***e)***\n",
    "Si el mensaje hubiese estado en español, necesitariamos un analisis de frecuencias del mismo tipo, pero con palabras en español. Por ejemplo con frecuencia de vocales, etc.\n",
    "\n",
    "Un metodo para encontrar la llave podría ser la fuerza bruta, probar todas las combinaciones posibles de llaves."
   ]
  }
 ],
 "metadata": {
  "kernelspec": {
   "display_name": "Python 3",
   "language": "python",
   "name": "python3"
  },
  "language_info": {
   "codemirror_mode": {
    "name": "ipython",
    "version": 3
   },
   "file_extension": ".py",
   "mimetype": "text/x-python",
   "name": "python",
   "nbconvert_exporter": "python",
   "pygments_lexer": "ipython3",
   "version": "3.7.3"
  }
 },
 "nbformat": 4,
 "nbformat_minor": 2
}

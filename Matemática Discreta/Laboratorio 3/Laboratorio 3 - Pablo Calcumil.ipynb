{
 "cells": [
  {
   "cell_type": "markdown",
   "metadata": {},
   "source": [
    "<img src=\"images/usm.png\" width=\"480\" height=\"240\" align=\"center\"/>"
   ]
  },
  {
   "cell_type": "markdown",
   "metadata": {},
   "source": [
    "<center>\n",
    "    <strong> <font size=\"5\"> MAT215 - 1° Semestre 2020 <br> Matemática Discreta</font> </strong>\n",
    "    \n",
    "</center>"
   ]
  },
  {
   "cell_type": "markdown",
   "metadata": {},
   "source": [
    "**Profesor**: *Patricio Quiróz*\n",
    "\n",
    "**Ayudante**: *Nicolás Alfaro*"
   ]
  },
  {
   "cell_type": "markdown",
   "metadata": {},
   "source": [
    "# Laboratorio 3\n",
    "\n",
    "## Desarrollo"
   ]
  },
  {
   "cell_type": "code",
   "execution_count": 5,
   "metadata": {},
   "outputs": [],
   "source": [
    "import numpy as np\n",
    "import random as rd\n",
    "import matplotlib.pyplot as plt\n",
    "from scipy import stats"
   ]
  },
  {
   "cell_type": "markdown",
   "metadata": {},
   "source": [
    "***a)*** Las politicas estaran dadas como:\n",
    "\n",
    "***-*** Sin Cuarentena = ***SC***\n",
    "\n",
    "***-*** Cuarentena Parcial = ***CP***\n",
    "\n",
    "***-*** Cuarentena Total = ***CT***\n",
    "\n",
    "Al usar el estado completo, como son muchos datos, los estados estaran dados como:\n",
    "\n",
    "***-*** Sano = ***S***\n",
    "\n",
    "***-*** Inmune = ***I***\n",
    "\n",
    "***-*** Infectado = ***V***\n",
    "\n",
    "***-*** Cuarentena = ***C***\n",
    "\n",
    "Para la funcion de matriz de adyacencia se crea una funcion para crear el ndarray con los estados de las personas que en si son los nodos, y ya que cada politica tiene una cantidad diferente de personas en cuarentena, usamos la misma con diferente porcentaje de personas en cuarentena. Por otro lado, tambien se hizo una para la creacion de aristas."
   ]
  },
  {
   "cell_type": "code",
   "execution_count": 6,
   "metadata": {},
   "outputs": [],
   "source": [
    "def Accion(EList,Cuarentenas,Infectados,Inmunes,Habitantes):\n",
    "    Nodos = np.zeros((1,Habitantes),str)\n",
    "    for i in range(0,Habitantes):\n",
    "            estado = rd.choice(EList)\n",
    "            if estado == \"V\" or estado == \"I\" or estado == \"C\":\n",
    "                if estado == \"V\":\n",
    "                    Infectados = Infectados - 1\n",
    "                    Nodos[0][i] = estado\n",
    "                    if Infectados <= 0 and Inmunes > 0:\n",
    "                        EList.pop(2)\n",
    "                    elif Infectados <= 0:\n",
    "                        EList.pop(1)\n",
    "                elif estado == \"I\":\n",
    "                    Inmunes = Inmunes - 1\n",
    "                    Nodos[0][i] = estado\n",
    "                    if Inmunes <= 0:\n",
    "                        EList.pop(1)\n",
    "                else:\n",
    "                    if Cuarentenas > 0:\n",
    "                        Cuarentenas = Cuarentenas - 1\n",
    "                        Nodos[0][i] = estado\n",
    "                        if Cuarentenas < 1 and Inmunes > 0 and Infectados > 0:\n",
    "                            EList.pop(3)\n",
    "                        elif Cuarentenas < 1 and ((Inmunes > 0 and Infectados == 0) or (Inmunes == 0 and Infectados > 0)):\n",
    "                            EList.pop(2)\n",
    "                        elif Cuarentenas < 1:\n",
    "                            EList.pop(1)\n",
    "            else:\n",
    "                Nodos[0][i] = estado\n",
    "    if Cuarentenas > 0:\n",
    "        for count in range(0,Habitantes):\n",
    "            if Nodos[0][count] == \"S\":\n",
    "                Cuarentenas = Cuarentenas - 1\n",
    "                Nodos[0][count] = \"C\"\n",
    "            if Cuarentenas == 0:\n",
    "                break\n",
    "    return Nodos"
   ]
  },
  {
   "cell_type": "code",
   "execution_count": 7,
   "metadata": {},
   "outputs": [],
   "source": [
    "def Crear_Aristas(NODOS,PList,Habitantes):\n",
    "    ARISTAS = np.zeros((Habitantes,Habitantes))\n",
    "    for i in range(0,Habitantes):\n",
    "        countmatriz = i + 1\n",
    "        if countmatriz < Habitantes:\n",
    "            for j in range(countmatriz,Habitantes):\n",
    "                ARISTAS[i][j] = rd.choice(PList)\n",
    "                ARISTAS[j][i] = ARISTAS[i][j]\n",
    "        else:\n",
    "            ARISTAS[i][Habitantes - 1] = 0\n",
    "    for i in range(0,Habitantes):\n",
    "        if NODOS[0][i] == \"C\":\n",
    "            for j in range(0,Habitantes):\n",
    "                if i != j:\n",
    "                    ARISTAS[i][j] = rd.choice([0,0.1])\n",
    "                    ARISTAS[j][i] = ARISTAS[i][j]\n",
    "    return ARISTAS"
   ]
  },
  {
   "cell_type": "code",
   "execution_count": 8,
   "metadata": {},
   "outputs": [],
   "source": [
    "def Matriz_Adyacencia(Politica):\n",
    "    Probabilidades = [0,0.1,0.2,0.3,0.4,0.5,0.6,0.7,0.8,0.9,1]\n",
    "    Estados = [\"S\",\"I\",\"V\", \"C\"]\n",
    "    Personas = 700\n",
    "    NInfectados,NInmunes = 5,int(Personas * 0.01)\n",
    "    if Politica == \"SC\":\n",
    "        Estados.pop(3)\n",
    "        Nodos = Accion(Estados,0,NInfectados,NInmunes,Personas)\n",
    "    elif Politica == \"CP\":\n",
    "        Nodos = Accion(Estados,int(Personas * 0.2),NInfectados,NInmunes,Personas)\n",
    "    else:\n",
    "        Nodos = Accion(Estados,int(Personas * 0.6),NInfectados,NInmunes,Personas)\n",
    "    Aristas = Crear_Aristas(Nodos,Probabilidades,Personas)\n",
    "    return Aristas,Nodos"
   ]
  },
  {
   "cell_type": "markdown",
   "metadata": {},
   "source": [
    "***b)*** La función ```UDM()``` es la función ```\"un-dia-mas\"```, esta utiliza la función ```Interaccion()```, la cual se encarga de restringir las interacciones a no mas de 15, por persona y por dia."
   ]
  },
  {
   "cell_type": "code",
   "execution_count": 38,
   "metadata": {},
   "outputs": [],
   "source": [
    "def UDM(Nodes,Edges):\n",
    "    Largo = len(Nodes[0])\n",
    "    Interacciones = list(np.zeros((1,700))[0])\n",
    "    for i in range(0,Largo):\n",
    "            if Nodes[0][i] == \"S\":\n",
    "                LInteraccion,Interacciones2 = Interaccion(Nodes[0],Edges,i,Interacciones)  #Lista [posicion,...]            \n",
    "                for posicion in LInteraccion:               #Interacciones sirve para ver que cada persona tenga\n",
    "                    if Nodes[0][posicion] == \"V\":           #maximo 15 interacciones, ya que tenemos que contar\n",
    "                        PInt = Edges[i][posicion]           #si un nodo i interactua con j, entonces j puede\n",
    "                        RPIBer = stats.bernoulli(PInt).rvs(1)  #hacer solo 14 mas cuando estemos viendolo a el\n",
    "                        if RPIBer[0] == 1:                    #Se confirma interaccion\n",
    "                            Interacciones[posicion] = Interacciones2[posicion]\n",
    "                            Interacciones[i] = Interacciones[i] + 1\n",
    "                            RuletaRusa = stats.bernoulli(0.7).rvs(1)\n",
    "                            if RuletaRusa[0] == 1:\n",
    "                                Nodes[0][i] = \"V\"\n",
    "    return Nodes     "
   ]
  },
  {
   "cell_type": "code",
   "execution_count": 34,
   "metadata": {},
   "outputs": [],
   "source": [
    "def Interaccion(Fila,Aristas,nodo,LI):\n",
    "    Fila = list(Fila)\n",
    "    Largo = len(Fila)\n",
    "    i = 0\n",
    "    Lista = []\n",
    "    while i < 15:\n",
    "        numero = rd.randrange(0,Largo)\n",
    "        if numero != nodo:\n",
    "            if LI[nodo] < 15 and LI[numero] < 15:\n",
    "                if numero not in Lista:\n",
    "                    if Aristas[nodo][numero] != 0:    #Si la arista tiene valor 0 es que no interactuan\n",
    "                        Lista.append(numero)          #asi tenemos que puede interactuar < 15 veces\n",
    "                        LI[nodo]= LI[nodo] + 1\n",
    "                        LI[numero] = LI[numero] + 1\n",
    "            i = i + 1                         \n",
    "    return Lista,LI"
   ]
  },
  {
   "cell_type": "code",
   "execution_count": 35,
   "metadata": {},
   "outputs": [],
   "source": [
    "def Contar(Elemento,Lista):\n",
    "    contador = 0\n",
    "    Largo = len(Lista)\n",
    "    for i in range(0,Largo):\n",
    "        if Lista[i] == Elemento:\n",
    "            contador = contador + 1\n",
    "    return contador"
   ]
  },
  {
   "cell_type": "markdown",
   "metadata": {},
   "source": [
    "***c)*** Presentamos el gráfico.\n",
    "\n",
    "***Nota 1***: La función ```\"Contar()\"```, es un contador de personas que estan infectadas para guardar en listas el aumento según las medidas y luego graficar.\n",
    "\n",
    "***Nota 2***: Se presentan 2 gráficos, ya que el primero considerando una semana se puede apreciar mejor como aumenta día a día, ya que en la primera semana en todos los modelos llegan al maximo de contagios."
   ]
  },
  {
   "cell_type": "code",
   "execution_count": 42,
   "metadata": {},
   "outputs": [
    {
     "name": "stdout",
     "output_type": "stream",
     "text": [
      "[5, 32, 166, 519, 687, 693, 693, 693, 693, 693, 693, 693, 693, 693, 693, 693, 693, 693, 693, 693, 693, 693, 693, 693, 693, 693, 693, 693, 693, 693, 693, 693, 693, 693, 693, 693, 693, 693, 693, 693, 693]\n",
      "[5, 39, 208, 484, 553, 553, 553, 553, 553, 553, 553, 553, 553, 553, 553, 553, 553, 553, 553, 553, 553, 553, 553, 553, 553, 553, 553, 553, 553, 553, 553, 553, 553, 553, 553, 553, 553, 553, 553, 553, 553]\n",
      "[5, 23, 77, 191, 261, 270, 273, 273, 273, 273, 273, 273, 273, 273, 273, 273, 273, 273, 273, 273, 273, 273, 273, 273, 273, 273, 273, 273, 273, 273, 273, 273, 273, 273, 273, 273, 273, 273, 273, 273, 273]\n"
     ]
    },
    {
     "data": {
      "image/png": "[encoded data removed]",
      "text/plain": [
       "<Figure size 432x288 with 1 Axes>"
      ]
     },
     "metadata": {
      "needs_background": "light"
     },
     "output_type": "display_data"
    }
   ],
   "source": [
    "Matriz1,Nodos1 = Matriz_Adyacencia(\"SC\")\n",
    "Lista1,Lista1b = [5],[5]\n",
    "Matriz2,Nodos2 = Matriz_Adyacencia(\"CP\")    #En cualquiera de los casos, todos parten con 5 Infectados\n",
    "Lista2,Lista2b = [5],[5]\n",
    "Matriz3,Nodos3 = Matriz_Adyacencia(\"CT\")\n",
    "Lista3,Lista3b = [5],[5]\n",
    "for i in range(0,40):\n",
    "    Nodos1 = UDM(Nodos1,Matriz1)\n",
    "    Lista1.append(Contar(\"V\",list(Nodos1[0])))\n",
    "    Nodos2 = UDM(Nodos2,Matriz2)\n",
    "    Lista2.append(Contar(\"V\",list(Nodos2[0])))\n",
    "    Nodos3 = UDM(Nodos3,Matriz3)\n",
    "    Lista3.append(Contar(\"V\",list(Nodos3[0])))\n",
    "    if i < 7:\n",
    "        Lista1b.append(Contar(\"V\",list(Nodos1[0])))\n",
    "        Lista2b.append(Contar(\"V\",list(Nodos2[0])))\n",
    "        Lista3b.append(Contar(\"V\",list(Nodos3[0])))\n",
    "        \n",
    "plt.plot(Lista1b)\n",
    "plt.plot(Lista2b)\n",
    "plt.plot(Lista3b)\n",
    "print(Lista1)\n",
    "print(Lista2)\n",
    "print(Lista3)"
   ]
  },
  {
   "cell_type": "code",
   "execution_count": 43,
   "metadata": {},
   "outputs": [
    {
     "data": {
      "text/plain": [
       "[<matplotlib.lines.Line2D at 0x7fb62f18fba8>]"
      ]
     },
     "execution_count": 43,
     "metadata": {},
     "output_type": "execute_result"
    },
    {
     "data": {
      "image/png": "[encoded data removed]",
      "text/plain": [
       "<Figure size 432x288 with 1 Axes>"
      ]
     },
     "metadata": {
      "needs_background": "light"
     },
     "output_type": "display_data"
    }
   ],
   "source": [
    "plt.plot(Lista1)\n",
    "plt.plot(Lista2)\n",
    "plt.plot(Lista3)"
   ]
  },
  {
   "cell_type": "markdown",
   "metadata": {},
   "source": [
    "***d)*** Podemos ver que el crecimiento cuando hay cuarentena total, es mucho mas bajo que cuando no la hay, pero debido a posibles errores de programación o por la falta de variables en consideración, los contagios llegan a su maximo en el día 5 o 6 independiente de la medida sanitaria y con la consideración solo de los sanos. Por otro lado, con esto podemos ver claramente que lo que decían los asesores no era cierto, ya que se termina contagiando todas las personas sanas que no esten en cuarentena, que en los 3 casos son mayor al 5% de la población total, pero aún así es mejor la opción de cuarentena total, ya que es la que menos contagios produce."
   ]
  },
  {
   "cell_type": "markdown",
   "metadata": {},
   "source": [
    "***e)*** La posibilidad de que personas contagiadas esten en cuarentena, es decir, algun tipo de \"Cuarentena Infectado\", ya que así podríamos a ver disminuido los contagios a través de su baja probabilidad de interacción con las demás personas.\n",
    "\n",
    "La recuperación de personas infectadas, ya que a pesar de que en menos de 6 días (punto en que terminan todos infectados en este modelo) una persona que esta infectada no se recupera, esto considerando lo de \"Cuarentena Infectado\" podría haber ayudado a que el modelo pudiera perdurar más, antes de que terminen todos infectados, a excepción de los inmunes.\n",
    "\n",
    "La inmunización de personas que ya se infectaron, es decir, que no se puedan volver a contagiar, a pesar de que hay estudios de que esta inmunización no dura mucho tiempo, esta podría ayudar tambien a que el modelo pueda seguir por mas días y no terminar en la primera semana, como resultó aquí."
   ]
  }
 ],
 "metadata": {
  "kernelspec": {
   "display_name": "Python 3",
   "language": "python",
   "name": "python3"
  },
  "language_info": {
   "codemirror_mode": {
    "name": "ipython",
    "version": 3
   },
   "file_extension": ".py",
   "mimetype": "text/x-python",
   "name": "python",
   "nbconvert_exporter": "python",
   "pygments_lexer": "ipython3",
   "version": "3.7.3"
  }
 },
 "nbformat": 4,
 "nbformat_minor": 2
}

{
 "cells": [
  {
   "cell_type": "markdown",
   "metadata": {},
   "source": [
    "<img src=\"images/usm.png\" width=\"480\" height=\"240\" align=\"center\"/>"
   ]
  },
  {
   "cell_type": "markdown",
   "metadata": {},
   "source": [
    "\n",
    "<center>\n",
    "    <strong> <font size=\"5\"> MAT215 - 1° Semestre 2020 <br> Matemática Discreta</font> </strong>\n",
    "    \n",
    "</center>\n"
   ]
  },
  {
   "cell_type": "markdown",
   "metadata": {},
   "source": [
    "## Índice\n",
    "* [Instrucciones](#in)\n",
    "* [Teoría de Grafos y Grafos sociales](#p1)\n",
    "* [Ápendice](#ap)"
   ]
  },
  {
   "cell_type": "markdown",
   "metadata": {},
   "source": [
    "<a id='in'></a>\n",
    "## 1.- Instrucciones.\n",
    "\n",
    "* Este laboratorio es de carácter individual, aunque se permite el intercambio de ideas con demás estudiantes, la redacción de éste debe ser personal.\n",
    "* La fecha de entrega es el 10/08/20 con hora límite 23:59 al correo nicolas.alfaro@sansano.usm.cl Por día habrá un descuento de 10 ptos, al segundo día 20 ptos hasta el 5to día de atraso fecha a la cuál ya no se recibirán mas laboratorios.\n",
    "* El lenguaje de programación utilizado para resolver el laboratorio es de libre elección, Siéntase libre de utilizar cualquier librería que lo ayude en su programación (Guardando parámetros, evitar utilizar artillería pesada). Eso sí considere que la resolución del laboratorio se hizo pensando en el lenguaje Python, usar otro lenguaje podría incurrir en variaciones en la dificultad de cada pregunta."
   ]
  },
  {
   "cell_type": "code",
   "execution_count": 2,
   "metadata": {},
   "outputs": [
    {
     "data": {
      "text/html": [
       "<style>\n",
       "figcaption {\n",
       "    margin: 10px 0 0 0;\n",
       "    font-variant: small-caps;\n",
       "    font-family: Verdana;\n",
       "    font-weight: bold;\n",
       "    text-align: center\n",
       "}\n",
       "</style>\n"
      ],
      "text/plain": [
       "<IPython.core.display.HTML object>"
      ]
     },
     "metadata": {},
     "output_type": "display_data"
    }
   ],
   "source": [
    "%%html\n",
    "<style>\n",
    "figcaption {\n",
    "    margin: 10px 0 0 0;\n",
    "    font-variant: small-caps;\n",
    "    font-family: Verdana;\n",
    "    font-weight: bold;\n",
    "    text-align: center\n",
    "}\n",
    "</style>"
   ]
  },
  {
   "cell_type": "markdown",
   "metadata": {},
   "source": [
    "\n",
    "<a id='p1'></a>\n",
    "\n",
    "## 3.- Teoría de Grafos y Grafos sociales(100p)\n",
    "\n",
    "<br>\n",
    "\n",
    "   La teoría de grafos es una rama ampliamente utilizada a día de hoy principalmente por su practicidad en la organización y en la visualización de variedad de datos sobre ciertas entidades de interés y las relaciones entre éstas.\n",
    "\n",
    "   Un tipo especial de grafo, es el llamado <b>grafo social</b> el cúal es un tipo de grafo que representa las interacciones de las personas en una comunidad. El propósito de este laboratorio es  analizar de forma superficial la propragación virílica en una comunidad de personas mediante un grafo social.\n",
    "\n",
    "<br>\n",
    "\n",
    "### La pandemia: COVID-19\n",
    "\n",
    "<br>\n",
    "\n",
    "A principio del presente año en Wuhan China se comenzaba a gestar una de las pandemias más importante de este último siglo, La enfermedad denominada como <b>COVID-19</b> engendrada de la familia de virus \"Orthocoronavirinae\" comúnmente llamados \"coronavirus\" que <a href=\"https://covid19.who.int\"> a día de hoy </a> con un total de 13.1 millones de personas contagiadas y alrededor de 350 mil personas fallecidas, se posiciona en términos de repercusión sobre otras importantes pandemias y epidemias mas recientes tales como la <b>gripe porcina-influenza H1N1 (2009-2010)</b> y la  <b> epidemia del ébola (2014-2016) </b>, es tal la magnitud de esta pandemia, que cuantitativamente los expertos ya la comparan con la gripe asiática (1957-1958). \n",
    "\n",
    "<br>\n",
    "<figure>\n",
    "    <img src=\"images/Sars-cov2.jpg\" width=\"350\" align=\"center\">\n",
    "    <figcaption>Fotografía microscópica del virus SARS-Cov2, causante de la enfermedad COVID-19 </figcaption>\n",
    "</figure>\n",
    "\n",
    "<br>\n",
    "\n",
    "A raíz de esta pandemia, la situación mundial se encuentra en un estado sensible, donde los gobiernos de diversos paises han implementado diversas medidas sanitarias con el fin de aplacar el impacto del virus sobre la sociedad. A la fecha se han planteado distintos puntos de vista y planes de acción con tal de sobrellevar de forma óptima el efecto del virus. Por este motivo nace la necesidad de realizar simulaciones a fin de discernir la ruta a seguir.\n",
    "\n",
    "### ¿Cómo se puede modelar la situación mediante grafos?\n",
    "\n",
    "Una manera sencilla e intuitiva para modelar la propragación vírilica mediante un grafo social simple, corresponde a la siguiente asignación:\n",
    "\n",
    "* Nodos $\\to $ Personas \n",
    "* Arcos (con peso) $\\to$  Probabilidad de que las personas se junten en cierta unidad de tiempo.\n",
    "<br>\n",
    "\n",
    "Complejizando aún más, se puede asignar atributos a las personas (nodos), tales como:\n",
    "* Contagiado(C)\n",
    "* Inmune(I)\n",
    "* En periodo de Incubación (asíntomatico) (PI)\n",
    "* Recuperado(R)\n",
    "* En cuarentena (EC)\n",
    "* etc...\n",
    "\n",
    "<a id='graf1'></a>\n",
    "<figure>\n",
    "    <img src=\"images/page1_1.png\" width=\"400\" align=\"center\">\n",
    "    <figcaption>Ejemplo simple de una sociedad con 4 personas</figcaption>\n",
    "</figure>\n",
    "\n",
    "<br>\n",
    "\n",
    "\n",
    "\n",
    "<br>\n",
    "\n",
    "## Problema\n",
    "\n",
    "<br>\n",
    "\n",
    "Usted es el Ministro de Salud del humilde país de Kili, que consta de 700 habitantes. Lamentablemente le han informado que la enfermedad COVID-19  ya ha llegado al país, por lo que usted decide que hay que tomar un plan de acción de forma inmediata y decretar cuarentena total, sin embargo, ciertos asesores le indican que decretar cuarentena total a la larga es mas perjudicial a la economía del país y por ende le recomiendan que no decrete la cuarentena afirmando que menos del 5% de la población se vería afectada en 40 días. En la entredicha de que decisión tomar usted decide que lo óptimo es realizar simulaciones.\n",
    "\n",
    "Para realizar esta simulación se tendrán en cuenta los siguientes supuestos:\n",
    "\n",
    "<br>\n",
    "\n",
    "#### Personas\n",
    "\n",
    "Las personas pueden presentar los siguientes 4 estados posibles:\n",
    "\n",
    "* Sano\n",
    "* Infectado\n",
    "* Inmune\n",
    "* Cuarentena\n",
    "\n",
    "<br>\n",
    "\n",
    "#### Interacción Virus\n",
    "\n",
    "* El porcentaje de la población que es inmune corresponde al 1%\n",
    "* Una persona \"Inmune\" no puede ser contagiada con el virus.\n",
    "* Una persona en \"cuarentena\" se asume no contagiada y tiene una probabilidad máxima de 10% de interactuar con el resto de personas.  \n",
    "* Una persona Sana tiene una probabilidad de 70% de ser contagiada si interactua con una persona Infectada.\n",
    "\n",
    "<br>\n",
    "\n",
    "#### Proceso de contagio \n",
    "* Si la probabilidad $p$ de que 2 personas (nodos) interactuen es distinta de 0 (peso de arco), entonces se asume que la probabilidad de que esas 2 personas interactuen cualquier día es $p$ (esto quiere decir que todo los días hay chances de que interactuen).\n",
    "* Las personas no pueden interactuar con más de 15 personas en un día.\n",
    "\n",
    "\n",
    "#### Política de cuarentena\n",
    "\n",
    "* Sin Cuarentena: Ninguna persona está en estado \"cuarentena\"\n",
    "* Cuarentena Parcial: 20% de las personas inicialmente se encuentran en estado \"cuarentena\"\n",
    "* Cuarentena Total: 60% de las personas inicialmente se encuentran en estado \"cuarentena\"\n",
    "\n",
    "<br>\n",
    "\n",
    "### Caso Inicial\n",
    "\n",
    "Inicialmente hay 5 casos de Covid-19 distribuidos aleatoriamente en las personas"
   ]
  },
  {
   "cell_type": "markdown",
   "metadata": {},
   "source": [
    "# PREGUNTAS"
   ]
  },
  {
   "cell_type": "markdown",
   "metadata": {},
   "source": [
    "b) Defina una función que defina de forma aleatoria una [matriz de adyacencia](#ma) $M_{700 x 700}$ con entradas entre 0.0 y 1.0 que representará al grafo social de forma inicial para las 3 distintas medidas de cuarentena (Esta matriz debe cumplir con los supuestos establecidos anteriormente). Además escoga alguna estructura de datos (por ejemplo un ndarray) para guardar el estado de salud de cada persona (nodo)."
   ]
  },
  {
   "cell_type": "markdown",
   "metadata": {},
   "source": [
    "b) Defina una función ``` \"un-dia-mas\" ``` que reciba como parámetro alguna medida de cuarentena y que actualice la matriz de adyacencia $M_{700x700}$ y la estructura escogida en inciso a), para el proceso de contagio diario descrito anteriormente. \n",
    "\n",
    "IMPORTANTE!: Este paso requiere un poco de eficiencia para evitar tiempos de ejecución demasiado altos, para resolver este inconveniente, piense únicamente en las personas que pueden contagiarse"
   ]
  },
  {
   "cell_type": "markdown",
   "metadata": {},
   "source": [
    "c) Realice un gráfico de cantidad de personas infectadas vs cantidad de días para las siguientes 3 situaciones.\n",
    "\n",
    "* Sin cuarentena\n",
    "* Con cuarentena parcial \n",
    "* Cuarentena Total\n"
   ]
  },
  {
   "cell_type": "markdown",
   "metadata": {},
   "source": [
    "d) Concluya que tan acertada es la recomendación de sus asesores."
   ]
  },
  {
   "cell_type": "markdown",
   "metadata": {},
   "source": [
    "e) Nombre 3 variables relevantes que fueron omitidas para esta simulación. ¿Cuál cree que es la incidencia que tendría en los resultados cada una de las variables anteriores?."
   ]
  },
  {
   "cell_type": "markdown",
   "metadata": {},
   "source": [
    "<a id='ap'></a>\n",
    "# 3.- Apéndice \n",
    "\n",
    "<a id='ma'>Matriz de adyacencia $M$ de un grafo con peso $G$ </a>: La matriz de adyacencia de un grafo, es una manera de representar un grafo mediante una matriz, donde las filas y columnas de la matriz representan a los nodos y las entradas representan el peso del arco, en caso de que no exista tal arco, entonces la entrada tiene valor 0.\n",
    "\n",
    "<br>\n",
    "\n",
    "Ejemplo: \n",
    "\n",
    "Considerando el grafo social de [ejemplo](#graf1) , entonces se tiene que la matriz de adyacencia viene dada por $$\\begin{pmatrix} 0 & 0.2 & 0.6 & 0.7 \\\\ 0.2 & 0 & 0.1 & c \\\\  0.6 & 0.1 & 0 & 0.3 \\\\ 0.7 & 0 & 0.3 & 0 \\end{pmatrix}$$\n"
   ]
  }
 ],
 "metadata": {
  "kernelspec": {
   "display_name": "Python 3",
   "language": "python",
   "name": "python3"
  },
  "language_info": {
   "codemirror_mode": {
    "name": "ipython",
    "version": 3
   },
   "file_extension": ".py",
   "mimetype": "text/x-python",
   "name": "python",
   "nbconvert_exporter": "python",
   "pygments_lexer": "ipython3",
   "version": "3.7.3"
  }
 },
 "nbformat": 4,
 "nbformat_minor": 2
}

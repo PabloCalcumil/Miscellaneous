{
 "cells": [
  {
   "cell_type": "markdown",
   "metadata": {},
   "source": [
    "<img src=\"images/usm.png\" width=\"480\" height=\"240\" align=\"center\"/>"
   ]
  },
  {
   "cell_type": "markdown",
   "metadata": {},
   "source": [
    "<center>\n",
    "    <strong> <font size=\"5\"> MAT215 - 1° Semestre 2020 <br> Matemática Discreta</font> </strong>\n",
    "    \n",
    "</center>"
   ]
  },
  {
   "cell_type": "markdown",
   "metadata": {},
   "source": [
    "**Profesor**: *Patricio Quiróz*\n",
    "\n",
    "**Ayudante**: *Nicolás Alfaro*"
   ]
  },
  {
   "cell_type": "markdown",
   "metadata": {},
   "source": [
    "# Laboratorio 2\n",
    "\n",
    "## Desarrollo"
   ]
  },
  {
   "cell_type": "code",
   "execution_count": 11,
   "metadata": {},
   "outputs": [],
   "source": [
    "import numpy as np\n",
    "from numpy import genfromtxt\n",
    "\n",
    "#Primera imagen\n",
    "Matriz_saturno1 = genfromtxt('Saturno-1.csv', delimiter=',')\n",
    "Matriz_saturno1 =(Matriz_saturno1 * 1).astype(np.uint8)\n",
    "\n",
    "#Segunda imagen\n",
    "Matriz_saturno2 = genfromtxt('Saturno-2.csv', delimiter=',')\n",
    "Matriz_saturno2 =(Matriz_saturno2 * 1).astype(np.uint8)\n",
    "\n",
    "#Tercera imagen\n",
    "Matriz_saturno3 = genfromtxt('Saturno-3.csv', delimiter=',')\n",
    "Matriz_saturno3 =(Matriz_saturno3 * 1).astype(np.uint8)"
   ]
  },
  {
   "cell_type": "markdown",
   "metadata": {},
   "source": [
    "***a)*** Trabajaremos con los numeros binarios en strings, ya que si queremos comparar numeros como 9 = \"00001001\" y 1 = \"00000001\" en numeros binarios se complicara mucho en numeros enteros ya que 9 = 1001 y 1 = 1. Por otro lado, los numeros en base 10 si serán enteros."
   ]
  },
  {
   "cell_type": "code",
   "execution_count": 12,
   "metadata": {},
   "outputs": [],
   "source": [
    "def Binario(numero):\n",
    "    string=[\"0\",\"0\",\"0\",\"0\",\"0\",\"0\",\"0\", \"0\"]\n",
    "    if numero >= 128:\n",
    "        string[0] = \"1\"\n",
    "        numero = numero - 128\n",
    "    if numero >= 64:\n",
    "        string[1] = \"1\"\n",
    "        numero = numero - 64\n",
    "    if numero >= 32:\n",
    "        string[2] = \"1\"\n",
    "        numero = numero - 32\n",
    "    if numero >= 16:\n",
    "        string[3] = \"1\"\n",
    "        numero = numero - 16\n",
    "    if numero >= 8:\n",
    "        string[4] = \"1\"\n",
    "        numero = numero - 8\n",
    "    if numero >= 4:\n",
    "        string[5] = \"1\"\n",
    "        numero = numero - 4\n",
    "    if numero >= 2:\n",
    "        string[6] = \"1\"\n",
    "        numero = numero - 2\n",
    "    if numero == 1:\n",
    "        string[7] = \"1\"\n",
    "    string = \"\".join(string)\n",
    "    return string"
   ]
  },
  {
   "cell_type": "code",
   "execution_count": 13,
   "metadata": {},
   "outputs": [],
   "source": [
    "def BinarioInv(binario):\n",
    "    number = 0\n",
    "    binario = list(binario)\n",
    "    largo = len(binario)\n",
    "    for i in range(0,largo):\n",
    "        if binario[i] == \"1\":\n",
    "            number = number + 2**(largo-(1+i))\n",
    "    return number"
   ]
  },
  {
   "cell_type": "markdown",
   "metadata": {},
   "source": [
    "***b)***"
   ]
  },
  {
   "cell_type": "code",
   "execution_count": 14,
   "metadata": {},
   "outputs": [],
   "source": [
    "def Matriz_Binaria(matriz):\n",
    "    LISTA = []\n",
    "    dimensiones = matriz.shape\n",
    "    for i in range(0,dimensiones[0]):\n",
    "        lista=[]\n",
    "        for j in range(0,dimensiones[1]):\n",
    "            lista.append(Binario(matriz[i][j]))\n",
    "        LISTA.append(lista)\n",
    "    LISTA = np.asarray(LISTA)\n",
    "    return LISTA"
   ]
  },
  {
   "cell_type": "code",
   "execution_count": 15,
   "metadata": {},
   "outputs": [],
   "source": [
    "def Matriz_BinariaInv(matriz):\n",
    "    LISTA = []\n",
    "    dimensiones = matriz.shape\n",
    "    for i in range(0,dimensiones[0]):\n",
    "        lista=[]\n",
    "        for j in range(0,dimensiones[1]):\n",
    "            lista.append(BinarioInv(matriz[i][j]))\n",
    "        LISTA.append(lista)\n",
    "    LISTA = np.asarray(LISTA)\n",
    "    return LISTA"
   ]
  },
  {
   "cell_type": "markdown",
   "metadata": {},
   "source": [
    "***c)***"
   ]
  },
  {
   "cell_type": "code",
   "execution_count": 16,
   "metadata": {},
   "outputs": [],
   "source": [
    "def Corrector_Binario(binario1,binario2,binario3):\n",
    "    Lb1 = list(binario1)\n",
    "    Lb2 = list(binario2)\n",
    "    Lb3 = list(binario3)\n",
    "    Len = len(Lb1)\n",
    "    final = \"\"\n",
    "    for i in  range(0,Len):\n",
    "        if Lb1[i] == Lb2[i]:\n",
    "            final = final + Lb1[i]\n",
    "        elif Lb1[i] == Lb3[i]:\n",
    "            final = final + Lb1[i]\n",
    "        elif Lb2[i] == Lb3[i]:\n",
    "            final = final + Lb2[i]\n",
    "    return final"
   ]
  },
  {
   "cell_type": "markdown",
   "metadata": {},
   "source": [
    "Notar que esta función corrige de posición en posición. Como en el enunciado se dijo que al menos habrían 2 mensajes iguales, basta con esta función. Por otro lado, si consideramos tres numeros binarios distintos, entregará la combinación de los 3 con el caracter mas repetido en la posicion i."
   ]
  },
  {
   "cell_type": "code",
   "execution_count": 17,
   "metadata": {},
   "outputs": [],
   "source": [
    "def Matriz_Correctora_Binaria(Matriz1,Matriz2,Matriz3):\n",
    "    dim = Matriz1.shape\n",
    "    MatrizF = []\n",
    "    for i in range(0,dim[0]):\n",
    "        VectorFila = []\n",
    "        for j in range(0,dim[1]):\n",
    "            VectorFila.append(Corrector_Binario(Matriz1[i][j],Matriz2[i][j],Matriz3[i][j]))\n",
    "        MatrizF.append(VectorFila)\n",
    "    MatrizF = np.asarray(MatrizF)\n",
    "    return MatrizF"
   ]
  },
  {
   "cell_type": "markdown",
   "metadata": {},
   "source": [
    "***d)***"
   ]
  },
  {
   "cell_type": "code",
   "execution_count": 23,
   "metadata": {},
   "outputs": [
    {
     "data": {
      "image/png": "[encoded data removed]",
      "text/plain": [
       "<PIL.Image.Image image mode=L size=500x500 at 0x7FB3AEC17898>"
      ]
     },
     "metadata": {},
     "output_type": "display_data"
    }
   ],
   "source": [
    "from PIL import Image\n",
    "\n",
    "MS1Bin= Matriz_Binaria(Matriz_saturno1)\n",
    "MS2Bin= Matriz_Binaria(Matriz_saturno2)\n",
    "MS3Bin= Matriz_Binaria(Matriz_saturno3)\n",
    "MatrizFinal = Matriz_Correctora_Binaria(MS1Bin,MS2Bin,MS3Bin)\n",
    "MatrizFinal = Matriz_BinariaInv(MatrizFinal)\n",
    "MatrizFinal = (MatrizFinal * 1).astype(np.uint8)\n",
    "display(Image.fromarray(MatrizFinal))"
   ]
  },
  {
   "cell_type": "markdown",
   "metadata": {},
   "source": [
    "Podemos ver claramente a saturno y 3 cuerpos celestes más a su izquierda, pero si nos acercamos mas podemos ver 2 más, uno en medio de 2 que se ven bien y una cerca del anillo por la parte superior izquierda. Finalmente se puede ver un cuerpo más por la parte inferior, bajo el anillo, llegando al borde de la imagen."
   ]
  },
  {
   "cell_type": "markdown",
   "metadata": {},
   "source": [
    "***e)*** Se utilizo Golay, ya que como este puede corregir cualquier error de 3 bits y detectar cualquier error de 7 bits, puede ser bastante rapido. Y es un buen codigo corrector. Por otro lado, el de repetición puede ser más lento y además no es tan buen corrector, ya que puede presentar errores como los mencionados al comienzo, es decir, se debe tener la condición de minimalidad de error, lo que no necesariamente es lo que siempre ocurre."
   ]
  }
 ],
 "metadata": {
  "kernelspec": {
   "display_name": "Python 3",
   "language": "python",
   "name": "python3"
  },
  "language_info": {
   "codemirror_mode": {
    "name": "ipython",
    "version": 3
   },
   "file_extension": ".py",
   "mimetype": "text/x-python",
   "name": "python",
   "nbconvert_exporter": "python",
   "pygments_lexer": "ipython3",
   "version": "3.7.3"
  }
 },
 "nbformat": 4,
 "nbformat_minor": 2
}

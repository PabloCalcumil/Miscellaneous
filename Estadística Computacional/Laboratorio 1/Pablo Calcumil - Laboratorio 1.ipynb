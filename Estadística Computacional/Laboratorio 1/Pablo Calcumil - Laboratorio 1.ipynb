{
 "cells": [
  {
   "cell_type": "markdown",
   "metadata": {},
   "source": [
    "<img src=\"img/dilogo.png\" style=\"float:left;height:100px\"></th>\n",
    "<img src=\"img/usmlogo.png\" style=\"float:right;height:85px\"></th>\n",
    "<h1 align=\"center\">Laboratorio 1</h1>\n",
    "    <h2 align=\"center\">Profesores: Ricardo Ñanculef y Francisco Mena</h2>\n",
    "    <h2 align=\"center\">Ayudantes </h2>\n",
    "    <h2 align=\"center\">Jorge Ludueña | Axel Reyes </h2>\n",
    "    <h3 align=\"center\">jorge.luduena@sansano.usm.cl | axel.reyes@sansano.usm.cl</h3>  \n",
    "    <h3 align=\"center\">Pablo Calcumil Alarcón; 201673563-1;</h3>\n",
    "    <h3 align=\"center\">2021-1</h3>"
   ]
  },
  {
   "cell_type": "markdown",
   "metadata": {},
   "source": [
    "# Link: https://youtu.be/BoBdH8Kqy28\n"
   ]
  },
  {
   "cell_type": "markdown",
   "metadata": {},
   "source": [
    "## Instrucciones\n",
    "\n",
    "La modalidad de trabajo será mediante el uso de jupyter notebook. El notebook debe ser desarrollado individualmente.\n",
    "\n",
    "La **modalidad de entrega será un archivo Apellido1_Apellido2_Lab1.zip** que contenga un notebook que incluya todas las preguntas con sus respectivas respuestas y el link a su video explicativo + un README que indique la forma correcta de ejecutar su notebook. El laboratorio debe ser trabajado en Python 3. Lea bien el enunciado.\n",
    "\n",
    "\n",
    "**Cualquier copia detectada implicará nota 0 en el laboratorio correspondiente y se notificará la situación al profesor.**\n"
   ]
  },
  {
   "cell_type": "markdown",
   "metadata": {},
   "source": [
    "# Librerías"
   ]
  },
  {
   "cell_type": "code",
   "execution_count": 1,
   "metadata": {},
   "outputs": [],
   "source": [
    "import numpy as np\n",
    "import matplotlib.pyplot as plt\n",
    "from scipy.stats import bernoulli\n",
    "%matplotlib inline "
   ]
  },
  {
   "cell_type": "markdown",
   "metadata": {},
   "source": [
    "<p> Para generar números aleatorios, puede revisar la siguiente \n",
    "    <a href = https://numpy.org/doc/1.16/reference/routines.random.html > documentación </a> de Numpy\n",
    "</p>"
   ]
  },
  {
   "cell_type": "markdown",
   "metadata": {},
   "source": [
    "## Máquina de Rube Goldberg\n",
    "\n",
    "Una máquina de Rube Goldberg es un artefacto extremadamente complejo que realiza una tarea fácil. Usted, en su tiempo libre, decidió construir uno de estos artefactos que consta de 5 etapas:\n",
    "\n",
    "<ol>\n",
    "    <li>Lanza una bolita que rueda por un riel con una probabilidad de $\\dfrac{2}{5}$ de caerse</li>\n",
    "    <li>Después de rodar por el riel cae en una catapulta que la lanza en la dirección correcta el $60\\%$ de las veces</li>\n",
    "    <li>Impacta contra una tela que le frena el impulso y la hace caer sobre el interruptor de un ventilador, el $80\\%$ de las veces es capaz de activar el ventilador</li>\n",
    "    <li>Cuando el ventilador se activa empuja un barco de juguete en una fuente con agua hasta el otro extremo de esta para empujar otra bolita, el barco llega con suficiente impulso con una probabilidad de $\\dfrac{6}{9}$</li>\n",
    "    <li>Esta bolita rueda por otro riel y cae sobre el control remoto que enciende su televisor, en un $30\\%$ de las veces logra encenderlo</li>\n",
    "</ol>\n",
    "\n",
    ">a) Realice una simulación de la Máquina de Rube Goldberg descrita anteriormente y estime cuántas veces (en promedio) tendrá que poner en marcha su máquina hasta que resulte por primera vez. A su vez, haga un gráfico mostrando la probabilidad de no tener éxito en función del número de puestas en marcha de la máquina y comente."
   ]
  },
  {
   "cell_type": "markdown",
   "metadata": {},
   "source": [
    "<hr>\n",
    "\n",
    "###### Respuesta:\n",
    "Para la simulación de la ___Máquina de Rube Goldberg___ se considera la siguiente función llamada ```MGR()```:"
   ]
  },
  {
   "cell_type": "code",
   "execution_count": 2,
   "metadata": {},
   "outputs": [],
   "source": [
    "def MRG():\n",
    "    riel = bernoulli.rvs(0.6)                       #Logra atravesar el riel, riel = 1, si falla, riel = 0\n",
    "    televisor = 0\n",
    "    if riel == 1:                                    #Caso en que logre atravesar\n",
    "        catapulta = bernoulli.rvs(0.6)               #Catapulta acierta, catapulta = 1\n",
    "        if catapulta == 1:                           #Caso en que logre acertar\n",
    "            interruptor = bernoulli.rvs(0.8)         #Interruptor se activa, interrupto = 1\n",
    "            if interruptor == 1:                     #Caso en que logre activarlo\n",
    "                barco = bernoulli.rvs(6 / 9)           #Barco atraviesa fuente, barco = 1\n",
    "                if barco == 1:\n",
    "                    televisor = bernoulli.rvs(0.3)   #Televisor se enciende, televisor = 1\n",
    "    return televisor"
   ]
  },
  {
   "cell_type": "markdown",
   "metadata": {},
   "source": [
    "Luego, se realizan *150* simulaciones con tal de estimar, en base a frecuencia, el promedio de puestas en marcha de la Máquina de Rube Goldberg."
   ]
  },
  {
   "cell_type": "code",
   "execution_count": 3,
   "metadata": {},
   "outputs": [
    {
     "name": "stdout",
     "output_type": "stream",
     "text": [
      "En promedio se necesita repetir el experimento  18.1  ~  18  veces para que se encienda la TV.\n"
     ]
    }
   ],
   "source": [
    "lista = []\n",
    "for i in range(0, 150):           #Se estimara el promedio en base a frecuencia\n",
    "    count = 0                     #Contador de veces hasta que se logre encender el televisor\n",
    "    flag = 0                      #Valor que dice si se encendio el televisor\n",
    "    while flag != 1:              #Se encendio el televisor? flag = 1, si se enciende\n",
    "        flag = MRG()              #A la funcion de MRG\n",
    "        count = count + 1         #Contador\n",
    "    lista.append(count)           #Lo agregamos a la lista para promediarlos al final\n",
    "print(\"En promedio se necesita repetir el experimento \"\n",
    "      , sum(lista) / len(lista), \" ~ \", round(sum(lista) / len(lista)), \" veces para que se encienda la TV.\")"
   ]
  },
  {
   "cell_type": "markdown",
   "metadata": {},
   "source": [
    "Finalmente, se realiza un gráfico mostrando la probabilidad de no tener exito _vs_ el número de puestas en marcha."
   ]
  },
  {
   "cell_type": "code",
   "execution_count": 4,
   "metadata": {},
   "outputs": [
    {
     "data": {
      "image/png": "[encoded data removed]",
      "text/plain": [
       "<Figure size 864x432 with 1 Axes>"
      ]
     },
     "metadata": {
      "needs_background": "light"
     },
     "output_type": "display_data"
    }
   ],
   "source": [
    "#Arreglo de numero de veces de puesta en marcha hasta prender la TV por primera vez\n",
    "array = np.array(lista)\n",
    "\n",
    "#Arreglo de probabilidades de casos fallidos hasta prender la TV por primera vez\n",
    "array_prob = (np.array(lista) - 1) / array\n",
    "\n",
    "#Grafico\n",
    "\n",
    "fig, ax = plt.subplots(figsize = (12, 6))\n",
    "ax.stem(array, array_prob)\n",
    "ax.set(xlabel = 'Puestas en Marchas',\n",
    "       ylabel = 'Probabilidad de Casos Fallidos',\n",
    "       title = 'Casos Fallidos vs Puestas en Marcha')\n",
    "ax.grid()\n",
    "plt.show()"
   ]
  },
  {
   "cell_type": "markdown",
   "metadata": {},
   "source": [
    "Se puede ver claramente en este gráfico, que mientras mas puestas en marcha la probabilidad de que el caso sea fallido se va acercando a $1$, esto lo podemos interpretar con la _Ley de los grandes Números_, puesto que sabemos que la probabilidad de que se cumplan todos los eventos, hasta lograr encender la television es:\n",
    "\n",
    "$$P(Lograr Exp) = P(riel = 1) \\cdot P(catapulta = 1) \\cdot P(interruptor = 1) \\cdot P(barco = 1) \\cdot P(TV = 1) = \\frac{3}{5} \\cdot \\frac{6}{10} \\cdot \\frac{8}{10} \\cdot \\frac{6}{9} \\cdot \\frac{3}{10} = 0,0576$$\n",
    "\n",
    "Por lo que la probabilidad de que no se logre encender la TV es:\n",
    "\n",
    "$$P(No lograr Exp) = 1 - P(Lograr Exp^C) = 1-0,0576 = 0,9424$$\n",
    "\n",
    "Con esto se puede decir que los casos fallidos deben de tener una probabilidad de $0,9424$, que es cercano a 1 y que concuerda con lo dicho anteriormente.\n",
    "\n",
    "Por otro lado, se puede notar como se acumulan varios experimentos en torno al valor obtenido como media de los experimentos hasta lograr encender la TV por primera vez.\n",
    "<hr>"
   ]
  },
  {
   "cell_type": "markdown",
   "metadata": {},
   "source": [
    "> b) Si usted cuenta con 1000 bolitas, estime tanto téorica como empíricamente cuántas bolitas fallan en cada etapa. Compare sus resultados obtenidos haciendo un histograma para cada método y concluya sobre estos.\n",
    "\n",
    "*Recuerde que habrá una cantidad de bolitas que no fallarán*"
   ]
  },
  {
   "cell_type": "markdown",
   "metadata": {},
   "source": [
    "<hr>\n",
    "\n",
    "###### Respuesta: \n",
    "Considerando lo dicho anteriormente, junto con que $1000$ bolitas, se puede decir que es un número grande de experimentos a realizar, por lo que téoricamente se puede calcular las bolitas que fallan en cada etapa $(NBF)$ son:\n",
    "\n",
    "$$NBF = P(No Lograr Exp) \\cdot 1000 = 0,9424 \\cdot 1000 = 942,4 \\approx 942$$\n",
    "\n",
    "Ahora, para realizarlo empiricamente, se vuelve a utilizar la función ```MRG()```."
   ]
  },
  {
   "cell_type": "code",
   "execution_count": 5,
   "metadata": {},
   "outputs": [
    {
     "name": "stdout",
     "output_type": "stream",
     "text": [
      "Empiricamente se logra un total de  934  casos fallidos del experimento.\n"
     ]
    }
   ],
   "source": [
    "list_cases = []\n",
    "for i in range(0, 1000):\n",
    "    list_cases.append(MRG())\n",
    "list_failed_cases = [list_cases[i] for i in range(0, 1000) if list_cases[i] == 0]\n",
    "print(\"Empiricamente se logra un total de \",len(list_failed_cases), \" casos fallidos del experimento.\")"
   ]
  },
  {
   "cell_type": "markdown",
   "metadata": {},
   "source": [
    "Luego, vemos que la diferencia entre el valor teorico y el valor numerico es bastante pequeño en consideracion a las $1000$ bolitas que conforman el experimento, por lo que se puede decir que el valor $942$ es representativo, y esto es de acuerdo a la teoría, _Ley de los grandes números_.\n",
    "\n",
    "Podemos notar que todas estas variables, riel, catapulta, interruptor, barco y televisor, son dependientes, puesto que si una etapa anterior falla, la siguiente no se alcanza a realizar, ya que esto no es como lanzar una moneda.\n",
    "\n",
    "__Etapa 1__, téoricamente, tenemos que la probabilidad de que falle es:\n",
    "\n",
    "$$P(riel = 0) = 0,4$$\n",
    "\n",
    "Por lo que serian $400$ bolitas falladas.\n",
    "\n",
    "__Etapa 2__, téoricamente, tenemos que la probabilidad de que falle es:\n",
    "\n",
    "$$P(riel = 1)\\cdot P(catapulta = 0) = 0.4 \\cdot 0,4 = 0,16$$\n",
    "\n",
    "Por lo que serian $160$ bolitas falladas.\n",
    "\n",
    "__Etapa 3__, téoricamente, tenemos que la probabilidad de que falle es:\n",
    "\n",
    "$$P(riel = 1)\\cdot P(catapulta = 1) \\cdot P(interruptor = 0) = 0.4 \\cdot 0,4 \\cdot 0,2= 0,032$$\n",
    "\n",
    "Por lo que serian $32$ bolitas falladas.\n",
    "\n",
    "__Etapa 4__, téoricamente, tenemos que la probabilidad de que falle es:\n",
    "\n",
    "$$P(riel = 1)\\cdot P(catapulta = 1) \\cdot P(interruptor = 1) \\cdot P(barco = 0) = 0.4 \\cdot 0,4 \\cdot 0,2 \\cdot \\frac{1}{3}= 0,0107$$\n",
    "\n",
    "Por lo que serian $11$ bolitas falladas.\n",
    "\n",
    "__Etapa 5__, téoricamente, tenemos que la probabilidad de que falle es:\n",
    "\n",
    "$$P(riel = 1)\\cdot P(catapulta = 1) \\cdot P(interruptor = 1) \\cdot P(barco = 1) \\cdot P(TV = 0) = 0.4 \\cdot 0,4 \\cdot 0,2 \\cdot \\frac{1}{3} \\cdot 0,7= 0,0075$$\n",
    "\n",
    "Por lo que serian $8$ bolitas falladas."
   ]
  },
  {
   "cell_type": "code",
   "execution_count": 6,
   "metadata": {},
   "outputs": [],
   "source": [
    "def MRG_2():                                          #La misma funcion, se agrega solo un factor\n",
    "    riel = bernoulli.rvs(0.6)                       \n",
    "    etapa = 1                                         #Se agrega etapa para marcar en que etapa falla\n",
    "    if riel == 1:                                   \n",
    "        catapulta = bernoulli.rvs(0.6)\n",
    "        etapa = etapa + 1\n",
    "        if catapulta == 1:                          \n",
    "            interruptor = bernoulli.rvs(0.8)\n",
    "            etapa = etapa + 1\n",
    "            if interruptor == 1:                    \n",
    "                barco = bernoulli.rvs(6 / 9)\n",
    "                etapa = etapa + 1\n",
    "                if barco == 1:\n",
    "                    televisor = bernoulli.rvs(0.3)\n",
    "                    if televisor == 0:\n",
    "                        etapa = etapa + 1                 #Si el valor es 5, la etapa no falló\n",
    "                    else:\n",
    "                        etapa = -1                        #Cuando la etapa = 0, el experimento se logró\n",
    "    return etapa"
   ]
  },
  {
   "cell_type": "code",
   "execution_count": 7,
   "metadata": {},
   "outputs": [
    {
     "name": "stdout",
     "output_type": "stream",
     "text": [
      "Empiricamente se logran los siguientes resultados en los casos fallidos:\n",
      "En la etapa  1  fallan:  386  bolitas.\n",
      "En la etapa  2  fallan:  240  bolitas.\n",
      "En la etapa  3  fallan:  63  bolitas.\n",
      "En la etapa  4  fallan:  91  bolitas.\n",
      "En la etapa  5  fallan:  160  bolitas.\n"
     ]
    }
   ],
   "source": [
    "list_cases = [] \n",
    "\n",
    "for i in range(0, 1000):\n",
    "    list_cases.append(MRG_2())     #Se agregan a una lista el numero de la etapa en que falla una puesta en marcha\n",
    "    \n",
    "list_count = []\n",
    "for j in range(0, 5):\n",
    "    list_failed_cases = []\n",
    "    list_failed_cases = [i for i in list_cases if i == j + 1]\n",
    "    list_count.append(len(list_failed_cases))                   #Se agrega a una lista la frecuencia de las etapas\n",
    "\n",
    "print(\"Empiricamente se logran los siguientes resultados en los casos fallidos:\")\n",
    "for i in range(0, 5):\n",
    "    print(\"En la etapa \", i + 1, \" fallan: \", list_count[i], \" bolitas.\")"
   ]
  },
  {
   "cell_type": "code",
   "execution_count": 8,
   "metadata": {},
   "outputs": [
    {
     "data": {
      "image/png": "[encoded data removed]",
      "text/plain": [
       "<Figure size 864x432 with 1 Axes>"
      ]
     },
     "metadata": {
      "needs_background": "light"
     },
     "output_type": "display_data"
    }
   ],
   "source": [
    "#Grafico\n",
    "\n",
    "plt.subplots(figsize = (12, 6))\n",
    "plt.hist(x = list_cases)\n",
    "plt.title('Histograma de Etapa de Fallo Experimento')\n",
    "plt.xlabel('Etapa de Fallo')\n",
    "plt.ylabel('Frecuencia')\n",
    "\n",
    "plt.show()"
   ]
  },
  {
   "cell_type": "markdown",
   "metadata": {},
   "source": [
    "Notemos que en el caso téorico las probabilidades no suman 1, esto es dado que hay casos que no contamos, como lo es, $riel = 0, catapulta = 1, \\ldots$, dado lo explicado antes, pero haciendo lo siguiente, se puede llegar a valores acordes:\n",
    "\n",
    "Considerando que lo anterior dió que $P(Casos Fallidos) = 0,6102$. Entonces, $\\frac{942}{0,6102} = 1543$.\n",
    "\n",
    "Por lo que se tiene, téoricamente, lo siguiente en las etapas:\n",
    "\n",
    "__Etapa 1__: $618$ bolitas.\n",
    "\n",
    "__Etapa 2__: $247$ bolitas.\n",
    "\n",
    "__Etapa 3__: $49$ bolitas.\n",
    "\n",
    "__Etapa 4__: $17$ bolitas.\n",
    "\n",
    "__Etapa 5__: $12$ bolitas.\n",
    "\n",
    "\n",
    "Podemos notar que en algunos casos el valor difiere por un valor muy alto, pero comparado a las $1000$ bolitas no son tan altos, y estos se pueden deber a todo lo mencionado anteriormente.\n",
    "\n",
    "<hr>"
   ]
  },
  {
   "cell_type": "markdown",
   "metadata": {},
   "source": [
    "> c) Determine la probabilidad de cada posible escenario que rige este fenómeno según todos los estados posibles de la bolita"
   ]
  },
  {
   "cell_type": "markdown",
   "metadata": {},
   "source": [
    "Estos valores ya fueron calculados anteriormente, en donde se tienen los siguientes valores:\n",
    "\n",
    "### Etapa $i$ Lograda:\n",
    "\n",
    "$$P(\\text{Logra Etapa 1}) = P(riel = 1) = 0,6$$\n",
    "\n",
    "$$P(\\text{Logra Etapa 2}) = P(riel = 1) \\cdot P(catapulta = 1) = 0,36$$\n",
    "\n",
    "$$P(\\text{Logra Etapa 3}) = P(riel = 1) \\cdot P(catapulta = 1) \\cdot P(interruptor = 1) = 0,288$$\n",
    "\n",
    "$$P(\\text{Logra Etapa 4}) = P(riel = 1) \\cdot P(catapulta = 1) \\cdot P(interruptor = 1) \\cdot P(barco = 1) = 0,192$$\n",
    "\n",
    "$$P(\\text{Logra Etapa 5}) = P(riel = 1) \\cdot P(catapulta = 1) \\cdot P(interruptor = 1) \\cdot P(barco = 1) \\cdot P(TV = 1) = 0,0576$$\n",
    "\n",
    "### Etapa $i$ No Lograda:\n",
    "\n",
    "$$P(\\text{No Logra Etapa 1}) = P(riel = 0) = 0,4$$\n",
    "\n",
    "$$P(\\text{No Logra Etapa 2}) = P(riel = 1)\\cdot P(catapulta = 0) = 0,16$$\n",
    "\n",
    "$$P(\\text{No Logra Etapa 3}) = P(riel = 1)\\cdot P(catapulta = 1) \\cdot P(interruptor = 0) = 0,032$$\n",
    "\n",
    "$$P(\\text{No Logra Etapa 4}) = P(riel = 1)\\cdot P(catapulta = 1) \\cdot P(interruptor = 1) \\cdot P(barco = 0) = 0,0107$$\n",
    "\n",
    "$$P(\\text{No Logra Etapa 5}) = P(riel = 1)\\cdot P(catapulta = 1) \\cdot P(interruptor = 1) \\cdot P(barco = 1) \\cdot P(TV = 0) = 0,0075$$\n",
    "\n",
    "Notemos que en la parte de _Etapa i Lograda_, las probabilidades suman mas de 1, esto puesto que cuando se cumple la siguiente etapa, ya esta considerado que se logró la etapa anterior. Esto ocurre, como mencionamos anteriormente, por la dependencia de las etapas."
   ]
  },
  {
   "cell_type": "markdown",
   "metadata": {},
   "source": [
    "## Reglas del Juego y Comentarios \n",
    "\n",
    "+ Errores ortográficos, de redacción y oraciones ambiguas descontarán parte de su puntaje.\n",
    "+ La versión de Python que se usará para revisar es 3.6.8\n",
    "+ Código comentado para facilitar entendimiento.\n",
    "+ La fecha de entrega será hasta el viernes 30 de abril a las 23:55 hrs, pero se aceptarán atrasos hasta el sábado a las 23:55 hrs sin descuento.\n",
    "+ Sea formal y claro con su respuesta, **explique su procedimiento y luego responda en su video.** \n",
    "+ Defina bien las secciones de su notebook, el orden siempre es bueno :) [Tips para usar Markdown](https://github.com/adam-p/markdown-here/wiki/Markdown-Cheatsheet)"
   ]
  }
 ],
 "metadata": {
  "kernelspec": {
   "display_name": "Python 3",
   "language": "python",
   "name": "python3"
  },
  "language_info": {
   "codemirror_mode": {
    "name": "ipython",
    "version": 3
   },
   "file_extension": ".py",
   "mimetype": "text/x-python",
   "name": "python",
   "nbconvert_exporter": "python",
   "pygments_lexer": "ipython3",
   "version": "3.7.3"
  }
 },
 "nbformat": 4,
 "nbformat_minor": 2
}
